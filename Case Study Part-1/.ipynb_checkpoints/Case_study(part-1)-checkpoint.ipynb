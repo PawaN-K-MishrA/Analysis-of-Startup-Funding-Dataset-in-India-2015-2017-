{
 "cells": [
  {
   "cell_type": "code",
   "execution_count": 1,
   "metadata": {},
   "outputs": [],
   "source": [
    "import pandas as pd\n",
    "import numpy as np\n",
    "import matplotlib.pyplot as plt\n",
    "import itertools\n",
    "import re"
   ]
  },
  {
   "cell_type": "code",
   "execution_count": 2,
   "metadata": {},
   "outputs": [],
   "source": [
    "#Readinng Dataset and creating dataframe.\n",
    "startup=pd.read_csv('startup_funding.csv')\n",
    "df=startup.copy()"
   ]
  },
  {
   "cell_type": "code",
   "execution_count": 3,
   "metadata": {},
   "outputs": [
    {
     "data": {
      "text/html": [
       "<div>\n",
       "<style scoped>\n",
       "    .dataframe tbody tr th:only-of-type {\n",
       "        vertical-align: middle;\n",
       "    }\n",
       "\n",
       "    .dataframe tbody tr th {\n",
       "        vertical-align: top;\n",
       "    }\n",
       "\n",
       "    .dataframe thead th {\n",
       "        text-align: right;\n",
       "    }\n",
       "</style>\n",
       "<table border=\"1\" class=\"dataframe\">\n",
       "  <thead>\n",
       "    <tr style=\"text-align: right;\">\n",
       "      <th></th>\n",
       "      <th>SNo</th>\n",
       "      <th>Date</th>\n",
       "      <th>StartupName</th>\n",
       "      <th>IndustryVertical</th>\n",
       "      <th>SubVertical</th>\n",
       "      <th>CityLocation</th>\n",
       "      <th>InvestorsName</th>\n",
       "      <th>InvestmentType</th>\n",
       "      <th>AmountInUSD</th>\n",
       "      <th>Remarks</th>\n",
       "    </tr>\n",
       "  </thead>\n",
       "  <tbody>\n",
       "    <tr>\n",
       "      <th>0</th>\n",
       "      <td>0</td>\n",
       "      <td>01/08/2017</td>\n",
       "      <td>TouchKin</td>\n",
       "      <td>Technology</td>\n",
       "      <td>Predictive Care Platform</td>\n",
       "      <td>Bangalore</td>\n",
       "      <td>Kae Capital</td>\n",
       "      <td>Private Equity</td>\n",
       "      <td>1,300,000</td>\n",
       "      <td>NaN</td>\n",
       "    </tr>\n",
       "    <tr>\n",
       "      <th>1</th>\n",
       "      <td>1</td>\n",
       "      <td>02/08/2017</td>\n",
       "      <td>Ethinos</td>\n",
       "      <td>Technology</td>\n",
       "      <td>Digital Marketing Agency</td>\n",
       "      <td>Mumbai</td>\n",
       "      <td>Triton Investment Advisors</td>\n",
       "      <td>Private Equity</td>\n",
       "      <td>NaN</td>\n",
       "      <td>NaN</td>\n",
       "    </tr>\n",
       "    <tr>\n",
       "      <th>2</th>\n",
       "      <td>2</td>\n",
       "      <td>02/08/2017</td>\n",
       "      <td>Leverage Edu</td>\n",
       "      <td>Consumer Internet</td>\n",
       "      <td>Online platform for Higher Education Services</td>\n",
       "      <td>New Delhi</td>\n",
       "      <td>Kashyap Deorah, Anand Sankeshwar, Deepak Jain,...</td>\n",
       "      <td>Seed Funding</td>\n",
       "      <td>NaN</td>\n",
       "      <td>NaN</td>\n",
       "    </tr>\n",
       "    <tr>\n",
       "      <th>3</th>\n",
       "      <td>3</td>\n",
       "      <td>02/08/2017</td>\n",
       "      <td>Zepo</td>\n",
       "      <td>Consumer Internet</td>\n",
       "      <td>DIY Ecommerce platform</td>\n",
       "      <td>Mumbai</td>\n",
       "      <td>Kunal Shah, LetsVenture, Anupam Mittal, Hetal ...</td>\n",
       "      <td>Seed Funding</td>\n",
       "      <td>500,000</td>\n",
       "      <td>NaN</td>\n",
       "    </tr>\n",
       "    <tr>\n",
       "      <th>4</th>\n",
       "      <td>4</td>\n",
       "      <td>02/08/2017</td>\n",
       "      <td>Click2Clinic</td>\n",
       "      <td>Consumer Internet</td>\n",
       "      <td>healthcare service aggregator</td>\n",
       "      <td>Hyderabad</td>\n",
       "      <td>Narottam Thudi, Shireesh Palle</td>\n",
       "      <td>Seed Funding</td>\n",
       "      <td>850,000</td>\n",
       "      <td>NaN</td>\n",
       "    </tr>\n",
       "    <tr>\n",
       "      <th>5</th>\n",
       "      <td>5</td>\n",
       "      <td>01/07/2017</td>\n",
       "      <td>Billion Loans</td>\n",
       "      <td>Consumer Internet</td>\n",
       "      <td>Peer to Peer Lending platform</td>\n",
       "      <td>Bangalore</td>\n",
       "      <td>Reliance Corporate Advisory Services Ltd</td>\n",
       "      <td>Seed Funding</td>\n",
       "      <td>1,000,000</td>\n",
       "      <td>NaN</td>\n",
       "    </tr>\n",
       "    <tr>\n",
       "      <th>6</th>\n",
       "      <td>6</td>\n",
       "      <td>03/07/2017</td>\n",
       "      <td>Ecolibriumenergy</td>\n",
       "      <td>Technology</td>\n",
       "      <td>Energy management solutions provider</td>\n",
       "      <td>Ahmedabad</td>\n",
       "      <td>Infuse Ventures, JLL</td>\n",
       "      <td>Private Equity</td>\n",
       "      <td>2,600,000</td>\n",
       "      <td>NaN</td>\n",
       "    </tr>\n",
       "    <tr>\n",
       "      <th>7</th>\n",
       "      <td>7</td>\n",
       "      <td>04/07/2017</td>\n",
       "      <td>Droom</td>\n",
       "      <td>eCommerce</td>\n",
       "      <td>Online marketplace for automobiles</td>\n",
       "      <td>Gurgaon</td>\n",
       "      <td>Asset Management (Asia) Ltd, Digital Garage Inc</td>\n",
       "      <td>Private Equity</td>\n",
       "      <td>20,000,000</td>\n",
       "      <td>NaN</td>\n",
       "    </tr>\n",
       "    <tr>\n",
       "      <th>8</th>\n",
       "      <td>8</td>\n",
       "      <td>05/07/2017</td>\n",
       "      <td>Jumbotail</td>\n",
       "      <td>eCommerce</td>\n",
       "      <td>online marketplace for food and grocery</td>\n",
       "      <td>Bangalore</td>\n",
       "      <td>Kalaari Capital, Nexus India Capital Advisors</td>\n",
       "      <td>Private Equity</td>\n",
       "      <td>8,500,000</td>\n",
       "      <td>NaN</td>\n",
       "    </tr>\n",
       "    <tr>\n",
       "      <th>9</th>\n",
       "      <td>9</td>\n",
       "      <td>05/07/2017</td>\n",
       "      <td>Moglix</td>\n",
       "      <td>eCommerce</td>\n",
       "      <td>B2B marketplace for Industrial products</td>\n",
       "      <td>Noida</td>\n",
       "      <td>International Finance Corporation, Rocketship,...</td>\n",
       "      <td>Private Equity</td>\n",
       "      <td>12,000,000</td>\n",
       "      <td>NaN</td>\n",
       "    </tr>\n",
       "  </tbody>\n",
       "</table>\n",
       "</div>"
      ],
      "text/plain": [
       "   SNo        Date       StartupName   IndustryVertical  \\\n",
       "0    0  01/08/2017          TouchKin         Technology   \n",
       "1    1  02/08/2017           Ethinos         Technology   \n",
       "2    2  02/08/2017      Leverage Edu  Consumer Internet   \n",
       "3    3  02/08/2017              Zepo  Consumer Internet   \n",
       "4    4  02/08/2017      Click2Clinic  Consumer Internet   \n",
       "5    5  01/07/2017     Billion Loans  Consumer Internet   \n",
       "6    6  03/07/2017  Ecolibriumenergy         Technology   \n",
       "7    7  04/07/2017             Droom          eCommerce   \n",
       "8    8  05/07/2017         Jumbotail          eCommerce   \n",
       "9    9  05/07/2017            Moglix          eCommerce   \n",
       "\n",
       "                                     SubVertical CityLocation  \\\n",
       "0                       Predictive Care Platform    Bangalore   \n",
       "1                       Digital Marketing Agency       Mumbai   \n",
       "2  Online platform for Higher Education Services    New Delhi   \n",
       "3                         DIY Ecommerce platform       Mumbai   \n",
       "4                  healthcare service aggregator    Hyderabad   \n",
       "5                  Peer to Peer Lending platform    Bangalore   \n",
       "6           Energy management solutions provider    Ahmedabad   \n",
       "7             Online marketplace for automobiles      Gurgaon   \n",
       "8        online marketplace for food and grocery    Bangalore   \n",
       "9        B2B marketplace for Industrial products        Noida   \n",
       "\n",
       "                                       InvestorsName  InvestmentType  \\\n",
       "0                                        Kae Capital  Private Equity   \n",
       "1                         Triton Investment Advisors  Private Equity   \n",
       "2  Kashyap Deorah, Anand Sankeshwar, Deepak Jain,...    Seed Funding   \n",
       "3  Kunal Shah, LetsVenture, Anupam Mittal, Hetal ...    Seed Funding   \n",
       "4                     Narottam Thudi, Shireesh Palle    Seed Funding   \n",
       "5           Reliance Corporate Advisory Services Ltd    Seed Funding   \n",
       "6                               Infuse Ventures, JLL  Private Equity   \n",
       "7    Asset Management (Asia) Ltd, Digital Garage Inc  Private Equity   \n",
       "8      Kalaari Capital, Nexus India Capital Advisors  Private Equity   \n",
       "9  International Finance Corporation, Rocketship,...  Private Equity   \n",
       "\n",
       "  AmountInUSD Remarks  \n",
       "0   1,300,000     NaN  \n",
       "1         NaN     NaN  \n",
       "2         NaN     NaN  \n",
       "3     500,000     NaN  \n",
       "4     850,000     NaN  \n",
       "5   1,000,000     NaN  \n",
       "6   2,600,000     NaN  \n",
       "7  20,000,000     NaN  \n",
       "8   8,500,000     NaN  \n",
       "9  12,000,000     NaN  "
      ]
     },
     "execution_count": 3,
     "metadata": {},
     "output_type": "execute_result"
    }
   ],
   "source": [
    "df.head(10)"
   ]
  },
  {
   "cell_type": "code",
   "execution_count": 4,
   "metadata": {},
   "outputs": [
    {
     "data": {
      "text/html": [
       "<div>\n",
       "<style scoped>\n",
       "    .dataframe tbody tr th:only-of-type {\n",
       "        vertical-align: middle;\n",
       "    }\n",
       "\n",
       "    .dataframe tbody tr th {\n",
       "        vertical-align: top;\n",
       "    }\n",
       "\n",
       "    .dataframe thead th {\n",
       "        text-align: right;\n",
       "    }\n",
       "</style>\n",
       "<table border=\"1\" class=\"dataframe\">\n",
       "  <thead>\n",
       "    <tr style=\"text-align: right;\">\n",
       "      <th></th>\n",
       "      <th>SNo</th>\n",
       "      <th>Date</th>\n",
       "      <th>StartupName</th>\n",
       "      <th>IndustryVertical</th>\n",
       "      <th>SubVertical</th>\n",
       "      <th>CityLocation</th>\n",
       "      <th>InvestorsName</th>\n",
       "      <th>InvestmentType</th>\n",
       "      <th>AmountInUSD</th>\n",
       "      <th>Remarks</th>\n",
       "    </tr>\n",
       "  </thead>\n",
       "  <tbody>\n",
       "    <tr>\n",
       "      <th>2362</th>\n",
       "      <td>2362</td>\n",
       "      <td>24/01/2015</td>\n",
       "      <td>Aasaanjobs</td>\n",
       "      <td>NaN</td>\n",
       "      <td>NaN</td>\n",
       "      <td>NaN</td>\n",
       "      <td>Inventus Capital Partners, IDG Ventures</td>\n",
       "      <td>Seed Funding</td>\n",
       "      <td>1,500,000</td>\n",
       "      <td>NaN</td>\n",
       "    </tr>\n",
       "    <tr>\n",
       "      <th>2363</th>\n",
       "      <td>2363</td>\n",
       "      <td>24/01/2015</td>\n",
       "      <td>Impartus</td>\n",
       "      <td>NaN</td>\n",
       "      <td>NaN</td>\n",
       "      <td>NaN</td>\n",
       "      <td>Kaizen Private Equity</td>\n",
       "      <td>Private Equity</td>\n",
       "      <td>NaN</td>\n",
       "      <td>Series A</td>\n",
       "    </tr>\n",
       "    <tr>\n",
       "      <th>2364</th>\n",
       "      <td>2364</td>\n",
       "      <td>25/01/2015</td>\n",
       "      <td>Thrill App</td>\n",
       "      <td>NaN</td>\n",
       "      <td>NaN</td>\n",
       "      <td>NaN</td>\n",
       "      <td>People Group (Shaadi.com)</td>\n",
       "      <td>Private Equity</td>\n",
       "      <td>1,000,000</td>\n",
       "      <td>Strategic Funding</td>\n",
       "    </tr>\n",
       "    <tr>\n",
       "      <th>2365</th>\n",
       "      <td>2365</td>\n",
       "      <td>27/01/2015</td>\n",
       "      <td>CarDekho.com</td>\n",
       "      <td>NaN</td>\n",
       "      <td>NaN</td>\n",
       "      <td>NaN</td>\n",
       "      <td>Hillhouse Capital, Tybourne Capital</td>\n",
       "      <td>Private Equity</td>\n",
       "      <td>50,000,000</td>\n",
       "      <td>Series B</td>\n",
       "    </tr>\n",
       "    <tr>\n",
       "      <th>2366</th>\n",
       "      <td>2366</td>\n",
       "      <td>28/01/2015</td>\n",
       "      <td>Grabhouse.com</td>\n",
       "      <td>NaN</td>\n",
       "      <td>NaN</td>\n",
       "      <td>NaN</td>\n",
       "      <td>Kalaari Capital, Sequoia Capital</td>\n",
       "      <td>Private Equity</td>\n",
       "      <td>2,500,000</td>\n",
       "      <td>Series A</td>\n",
       "    </tr>\n",
       "    <tr>\n",
       "      <th>2367</th>\n",
       "      <td>2367</td>\n",
       "      <td>29/01/2015</td>\n",
       "      <td>Printvenue</td>\n",
       "      <td>NaN</td>\n",
       "      <td>NaN</td>\n",
       "      <td>NaN</td>\n",
       "      <td>Asia Pacific Internet Group</td>\n",
       "      <td>Private Equity</td>\n",
       "      <td>4,500,000</td>\n",
       "      <td>NaN</td>\n",
       "    </tr>\n",
       "    <tr>\n",
       "      <th>2368</th>\n",
       "      <td>2368</td>\n",
       "      <td>29/01/2015</td>\n",
       "      <td>Graphene</td>\n",
       "      <td>NaN</td>\n",
       "      <td>NaN</td>\n",
       "      <td>NaN</td>\n",
       "      <td>KARSEMVEN Fund</td>\n",
       "      <td>Private Equity</td>\n",
       "      <td>825,000</td>\n",
       "      <td>Govt backed VC Fund</td>\n",
       "    </tr>\n",
       "    <tr>\n",
       "      <th>2369</th>\n",
       "      <td>2369</td>\n",
       "      <td>30/01/2015</td>\n",
       "      <td>Mad Street Den</td>\n",
       "      <td>NaN</td>\n",
       "      <td>NaN</td>\n",
       "      <td>NaN</td>\n",
       "      <td>Exfinity Fund, GrowX Ventures.</td>\n",
       "      <td>Private Equity</td>\n",
       "      <td>1,500,000</td>\n",
       "      <td>NaN</td>\n",
       "    </tr>\n",
       "    <tr>\n",
       "      <th>2370</th>\n",
       "      <td>2370</td>\n",
       "      <td>30/01/2015</td>\n",
       "      <td>Simplotel</td>\n",
       "      <td>NaN</td>\n",
       "      <td>NaN</td>\n",
       "      <td>NaN</td>\n",
       "      <td>MakeMyTrip</td>\n",
       "      <td>Private Equity</td>\n",
       "      <td>NaN</td>\n",
       "      <td>Strategic Funding, Minority stake</td>\n",
       "    </tr>\n",
       "    <tr>\n",
       "      <th>2371</th>\n",
       "      <td>2371</td>\n",
       "      <td>31/01/2015</td>\n",
       "      <td>couponmachine.in</td>\n",
       "      <td>NaN</td>\n",
       "      <td>NaN</td>\n",
       "      <td>NaN</td>\n",
       "      <td>UK based Group of Angel Investors</td>\n",
       "      <td>Seed Funding</td>\n",
       "      <td>140,000</td>\n",
       "      <td>NaN</td>\n",
       "    </tr>\n",
       "  </tbody>\n",
       "</table>\n",
       "</div>"
      ],
      "text/plain": [
       "       SNo        Date       StartupName IndustryVertical SubVertical  \\\n",
       "2362  2362  24/01/2015        Aasaanjobs              NaN         NaN   \n",
       "2363  2363  24/01/2015          Impartus              NaN         NaN   \n",
       "2364  2364  25/01/2015        Thrill App              NaN         NaN   \n",
       "2365  2365  27/01/2015      CarDekho.com              NaN         NaN   \n",
       "2366  2366  28/01/2015     Grabhouse.com              NaN         NaN   \n",
       "2367  2367  29/01/2015        Printvenue              NaN         NaN   \n",
       "2368  2368  29/01/2015          Graphene              NaN         NaN   \n",
       "2369  2369  30/01/2015    Mad Street Den              NaN         NaN   \n",
       "2370  2370  30/01/2015         Simplotel              NaN         NaN   \n",
       "2371  2371  31/01/2015  couponmachine.in              NaN         NaN   \n",
       "\n",
       "     CityLocation                            InvestorsName  InvestmentType  \\\n",
       "2362          NaN  Inventus Capital Partners, IDG Ventures    Seed Funding   \n",
       "2363          NaN                    Kaizen Private Equity  Private Equity   \n",
       "2364          NaN                People Group (Shaadi.com)  Private Equity   \n",
       "2365          NaN      Hillhouse Capital, Tybourne Capital  Private Equity   \n",
       "2366          NaN         Kalaari Capital, Sequoia Capital  Private Equity   \n",
       "2367          NaN              Asia Pacific Internet Group  Private Equity   \n",
       "2368          NaN                           KARSEMVEN Fund  Private Equity   \n",
       "2369          NaN           Exfinity Fund, GrowX Ventures.  Private Equity   \n",
       "2370          NaN                               MakeMyTrip  Private Equity   \n",
       "2371          NaN        UK based Group of Angel Investors    Seed Funding   \n",
       "\n",
       "     AmountInUSD                            Remarks  \n",
       "2362   1,500,000                                NaN  \n",
       "2363         NaN                           Series A  \n",
       "2364   1,000,000                  Strategic Funding  \n",
       "2365  50,000,000                           Series B  \n",
       "2366   2,500,000                           Series A  \n",
       "2367   4,500,000                                NaN  \n",
       "2368     825,000                Govt backed VC Fund  \n",
       "2369   1,500,000                                NaN  \n",
       "2370         NaN  Strategic Funding, Minority stake  \n",
       "2371     140,000                                NaN  "
      ]
     },
     "execution_count": 4,
     "metadata": {},
     "output_type": "execute_result"
    }
   ],
   "source": [
    "df.tail(10)"
   ]
  },
  {
   "cell_type": "code",
   "execution_count": 14,
   "metadata": {},
   "outputs": [],
   "source": [
    "df.InvestorsName.fillna('nan',inplace=True)\n"
   ]
  },
  {
   "cell_type": "markdown",
   "metadata": {},
   "source": [
    "### 1.) Number of Fundings."
   ]
  },
  {
   "cell_type": "code",
   "execution_count": 6,
   "metadata": {},
   "outputs": [
    {
     "data": {
      "image/png": "[encoded data removed]",
      "text/plain": [
       "<Figure size 432x288 with 1 Axes>"
      ]
     },
     "metadata": {
      "needs_background": "light"
     },
     "output_type": "display_data"
    },
    {
     "name": "stdout",
     "output_type": "stream",
     "text": [
      "2015 936\n",
      "2016 993\n",
      "2017 443\n"
     ]
    }
   ],
   "source": [
    "y_f={}\n",
    "for i in df.Date.values:\n",
    "    m=i.replace('.','/')\n",
    "    r=m.split('/')\n",
    "    y_f[r[-1]]=y_f.get(r[-1],0)+1\n",
    "    \n",
    "year=list(y_f.keys())\n",
    "f=list(y_f.values())\n",
    "year.sort()\n",
    "\n",
    "fnew=[]\n",
    "for i in year:\n",
    "    fnew.append(y_f[i])\n",
    "    \n",
    "plt.plot(year,fnew)\n",
    "plt.show()\n",
    "\n",
    "for y in year:\n",
    "    print(y,y_f[y])"
   ]
  },
  {
   "cell_type": "markdown",
   "metadata": {},
   "source": [
    "###  2.) Top Indian  Cities."
   ]
  },
  {
   "cell_type": "code",
   "execution_count": 7,
   "metadata": {},
   "outputs": [
    {
     "data": {
      "image/png": "[encoded data removed]",
      "text/plain": [
       "<Figure size 432x288 with 1 Axes>"
      ]
     },
     "metadata": {},
     "output_type": "display_data"
    },
    {
     "name": "stdout",
     "output_type": "stream",
     "text": [
      "Bangalore 635\n",
      "Mumbai 449\n",
      "New Delhi 389\n",
      "Gurgaon 241\n",
      "nan 179\n",
      "Pune 91\n",
      "Noida 79\n",
      "Hyderabad 77\n",
      "Chennai 67\n",
      "Ahmedabad 35\n"
     ]
    }
   ],
   "source": [
    "df.CityLocation.replace('Delhi','New Delhi',inplace=True)\n",
    "df.CityLocation.replace('bangalore','Bangalore',inplace=True)\n",
    "\n",
    "cd={}\n",
    "\n",
    "for i in df.CityLocation.values:\n",
    "    if i!='nan':\n",
    "        city=str(i).split('/')[0].strip()\n",
    "        cd[city]=cd.get(city,0)+1\n",
    "citycounts=list(cd.values())\n",
    "cities=list(cd.keys())\n",
    "citycounts.sort(reverse=True)\n",
    "\n",
    "def get_key(val):\n",
    "    for key,value in cd.items():\n",
    "        if val==value:\n",
    "            return key\n",
    "city10=citycounts[:10]\n",
    "citdesc=[]\n",
    "for c in city10:\n",
    "    citdesc.append(get_key(c))\n",
    "plt.pie(city10,labels=citdesc)\n",
    "plt.axis('equal')\n",
    "plt.show()\n",
    "for i in citdesc:\n",
    "    print(i,cd[i])"
   ]
  },
  {
   "cell_type": "markdown",
   "metadata": {},
   "source": [
    "### 3.) Funding Amount."
   ]
  },
  {
   "cell_type": "code",
   "execution_count": 15,
   "metadata": {},
   "outputs": [
    {
     "data": {
      "image/png": "[encoded data removed]",
      "text/plain": [
       "<Figure size 432x288 with 1 Axes>"
      ]
     },
     "metadata": {},
     "output_type": "display_data"
    },
    {
     "name": "stdout",
     "output_type": "stream",
     "text": [
      "Bangalore 49.71\n",
      "New Delhi 16.63\n",
      "Mumbai 13.90\n",
      "Gurgaon 12.21\n",
      "Chennai 2.43\n",
      "Pune 2.16\n",
      "Hyderabad 1.15\n",
      "Noida 1.01\n",
      "Ahmedabad 0.58\n",
      "Jaipur 0.21\n"
     ]
    }
   ],
   "source": [
    "city_invest=df[['CityLocation','AmountInUSD']]\n",
    "citam={}\n",
    "for i in city_invest.values:\n",
    "    if i[0]!='nan':\n",
    "        city=str(i[0]).split('/')[0].strip()\n",
    "        citam[city]=citam.get(city,0)+int(float(str(i[1]).replace(',','')) )\n",
    "def get_key(val):\n",
    "    for key,value in citam.items():\n",
    "        if val==value:\n",
    "            return key\n",
    "#print(citam)    \n",
    "amount=list(citam.values())\n",
    "town=list(citam.keys())\n",
    "amount.sort(reverse=True)\n",
    "\n",
    "amountof10=amount[:10]\n",
    "\n",
    "city10=[]\n",
    "for i in amountof10:\n",
    "    city10.append(get_key(i))\n",
    "    \n",
    "\n",
    "plt.pie(amountof10,labels=city10,autopct='%.2f%%')\n",
    "plt.axis('equal')\n",
    "plt.show()\n",
    "\n",
    "print('Bangalore','49.71')\n",
    "print('New Delhi','16.63')\n",
    "print('Mumbai','13.90')\n",
    "print('Gurgaon','12.21')\n",
    "print('Chennai','2.43')\n",
    "print('Pune','2.16')\n",
    "print('Hyderabad','1.15')\n",
    "print('Noida','1.01')\n",
    "print('Ahmedabad','0.58')\n",
    "print('Jaipur','0.21')"
   ]
  },
  {
   "cell_type": "markdown",
   "metadata": {},
   "source": [
    "### 4.) Investment Type."
   ]
  },
  {
   "cell_type": "code",
   "execution_count": 9,
   "metadata": {},
   "outputs": [
    {
     "name": "stdout",
     "output_type": "stream",
     "text": [
      "{'Private Equity': 18007085000, 'Seed Funding': 332345708, 'Debt Funding': 7800000, 'nan': 0, 'Crowd Funding': 155768}\n"
     ]
    },
    {
     "data": {
      "image/png": "[encoded data removed]",
      "text/plain": [
       "<Figure size 432x288 with 1 Axes>"
      ]
     },
     "metadata": {},
     "output_type": "display_data"
    },
    {
     "name": "stdout",
     "output_type": "stream",
     "text": [
      "Private Equity 98.15\n",
      "Seed Funding 1.81\n",
      "Debt Funding 0.04\n",
      "Crowd Funding 0.00\n"
     ]
    }
   ],
   "source": [
    "df.InvestmentType.fillna('nan',inplace=True)\n",
    "funding_type=[]\n",
    "for i in df.InvestmentType.values:\n",
    "    if i[0]=='P':\n",
    "        funding_type.append('Private Equity')\n",
    "    elif i[0]=='S':\n",
    "        funding_type.append('Seed Funding')\n",
    "    elif i[0]=='C':\n",
    "        funding_type.append('Crowd Funding')\n",
    "    elif i[0]=='D':\n",
    "        funding_type.append('Debt Funding')\n",
    "    else:\n",
    "        funding_type.append('nan')      \n",
    "fdic={}\n",
    "df['ft']=funding_type[:]\n",
    "df.AmountInUSD.fillna('0.0',inplace=True)\n",
    "f=df[['ft','AmountInUSD']]\n",
    "\n",
    "for i in f.values:\n",
    "    if type(i[1])!=int:\n",
    "        fdic[i[0]]=fdic.get(i[0],0)+int(float(str(i[1]).replace(',','')))\n",
    "        \n",
    "print(fdic)\n",
    "a=list(fdic.keys())\n",
    "inr=list(fdic.values())\n",
    "plt.pie(inr,labels=a,autopct='%.2f%%')\n",
    "plt.axis('equal')\n",
    "plt.show()\n",
    "print('Private Equity','98.15')\n",
    "print('Seed Funding','1.81')\n",
    "print('Debt Funding','0.04')\n",
    "print('Crowd Funding','0.00')"
   ]
  },
  {
   "cell_type": "markdown",
   "metadata": {},
   "source": [
    "### 5.) Top Industries."
   ]
  },
  {
   "cell_type": "code",
   "execution_count": 10,
   "metadata": {},
   "outputs": [
    {
     "data": {
      "image/png": "[encoded data removed]",
      "text/plain": [
       "<Figure size 432x288 with 1 Axes>"
      ]
     },
     "metadata": {},
     "output_type": "display_data"
    },
    {
     "name": "stdout",
     "output_type": "stream",
     "text": [
      "Ecommerce 40.53\n",
      "Consumer Internet 35.95\n",
      "Technology 10.45\n",
      "Online Marketplace 6.63\n",
      "E-Commerce & M-Commerce platform 6.44\n"
     ]
    }
   ],
   "source": [
    "df.IndustryVertical.replace(to_replace='[Ee][Cc]ommerce', value='Ecommerce', regex=True,inplace=True)\n",
    "indu_amou=df[['IndustryVertical','AmountInUSD']]\n",
    "di={}\n",
    "for i in indu_amou.values:\n",
    "    if i[0]!='nan':\n",
    "        di[i[0]]=di.get(i[0],0)+int(float(str(i[1]).replace(',','')))\n",
    "di\n",
    "amou=list(di.values())\n",
    "sce=list(di.keys())\n",
    "amou.sort(reverse=True)\n",
    "\n",
    "def get_key(val):\n",
    "    for key,value in di.items():\n",
    "        if val==value:\n",
    "            return key\n",
    "amou10=amou[:5]\n",
    "sce1=[]\n",
    "for i in amou10:\n",
    "    sce1.append(get_key(i))\n",
    "plt.pie(amou10,labels=sce1,autopct='%.2f%%')\n",
    "plt.axis('equal')\n",
    "plt.show()\n",
    "\n",
    "print('Ecommerce','40.53')\n",
    "print('Consumer Internet','35.95')\n",
    "print('Technology','10.45')\n",
    "print('Online Marketplace','6.63')\n",
    "print('E-Commerce & M-Commerce platform','6.44')"
   ]
  },
  {
   "cell_type": "markdown",
   "metadata": {},
   "source": [
    "### 6.) Top Startups.  "
   ]
  },
  {
   "cell_type": "code",
   "execution_count": 11,
   "metadata": {},
   "outputs": [
    {
     "name": "stdout",
     "output_type": "stream",
     "text": [
      "Paytm 2340000000\n",
      "Flipkart 2259700000\n",
      "Ola 1899500000\n",
      "Snapdeal 700000000\n",
      "Oyo 612000000\n"
     ]
    }
   ],
   "source": [
    "sta_amou=df[['StartupName','AmountInUSD']]\n",
    "stam={}\n",
    "for i in sta_amou.values:\n",
    "    if i[0]=='Ola' or i[0]=='Ola Cabs' or i[0]=='Olacabs':\n",
    "        stam['Ola']=stam.get('Ola',0)+int(float(i[1].replace(',','')))\n",
    "    elif i[0]=='Oyo' or i[0]=='Oyo Rooms' or i[0]=='Oyorooms' or i[0]=='OyoRooms':\n",
    "        stam['Oyo']=stam.get('Oyo',0)+int(float(i[1].replace(',','')))\n",
    "    elif i[0]=='Paytm' or i[0]=='Paytm Marketplace':\n",
    "        stam['Paytm']=stam.get('Paytm',0)+int(float(i[1].replace(',','')))\n",
    "    elif i[0]=='Flipkart'or i[0]=='Flipkart.com':\n",
    "        stam['Flipkart']=stam.get('Flipkart',0)+int(float(i[1].replace(',','')))\n",
    "    else:\n",
    "        stam[i[0]]=stam.get(i[0],0)+int(float(i[1].replace(',','')))\n",
    "amount=list(stam.values())\n",
    "sta=list(stam.keys())\n",
    "amount.sort(reverse=True)\n",
    "amou5=amount[:5]\n",
    "\n",
    "def get_Key(val):\n",
    "    for key,value in stam.items():\n",
    "        if val==value:\n",
    "            return key\n",
    "\n",
    "sta5=[]\n",
    "for i in amou5:\n",
    "    sta5.append(get_Key(i))\n",
    "for i in sta5:\n",
    "    print(i,stam[i])"
   ]
  },
  {
   "cell_type": "markdown",
   "metadata": {},
   "source": [
    "###  7.) Funding Rounds. "
   ]
  },
  {
   "cell_type": "code",
   "execution_count": 12,
   "metadata": {},
   "outputs": [
    {
     "name": "stdout",
     "output_type": "stream",
     "text": [
      "Ola 9\n",
      "Swiggy 7\n",
      "Paytm 6\n",
      "UrbanClap 6\n",
      "Oyo 6\n"
     ]
    }
   ],
   "source": [
    "df['StartupName'].replace('Oyo Rooms','Oyo',inplace = True)\n",
    "df['StartupName'].replace('OyoRooms','Oyo',inplace = True)\n",
    "df['StartupName'].replace('Oyorooms','Oyo',inplace = True)\n",
    "df['StartupName'].replace('OYO Rooms','Oyo',inplace=True)\n",
    "df['StartupName'].replace('Paytm Marketplace','Paytm',inplace = True)\n",
    "df['StartupName'].replace('Flipkart.com','Flipkart',inplace = True)\n",
    "df['StartupName'].replace('Ola Cabs','Ola',inplace = True)\n",
    "df['StartupName'].replace('Olacabs','Ola',inplace = True)\n",
    "df['StartupName'].replace('OYO Rooms','Oyo',inplace=True)\n",
    "\n",
    "top5c=df.StartupName.value_counts()[:5]\n",
    "tops=top5c.index\n",
    "for i,j in itertools.zip_longest(tops,top5c):\n",
    "    print(i,j)"
   ]
  },
  {
   "cell_type": "markdown",
   "metadata": {},
   "source": [
    "### 8.) Top Investor. "
   ]
  },
  {
   "cell_type": "code",
   "execution_count": 13,
   "metadata": {},
   "outputs": [
    {
     "name": "stdout",
     "output_type": "stream",
     "text": [
      "Sequoia Capital 64\n"
     ]
    }
   ],
   "source": [
    "df.InvestorsName.fillna('nan',inplace=True)\n",
    "invcount={}\n",
    "for i in df.InvestorsName.values:\n",
    "    if i!='nan':\n",
    "        for j in i.split(','):\n",
    "            invcount[j.strip()]=invcount.get(j.strip(),0)+1\n",
    "\n",
    "s={k: v for k, v in sorted(invcount.items(), key=lambda item: item[1],reverse=True)}\n",
    "print(list(s.keys())[0],s[list(s.keys())[0]])"
   ]
  }
 ],
 "metadata": {
  "kernelspec": {
   "display_name": "Python 3",
   "language": "python",
   "name": "python3"
  }
 },
 "nbformat": 4,
 "nbformat_minor": 2
}
